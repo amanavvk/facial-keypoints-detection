{
  "cells": [
    {
      "cell_type": "code",
      "execution_count": null,
      "metadata": {
        "id": "x4SI-WOqis5P"
      },
      "outputs": [],
      "source": [
        "import torch\n",
        "import torch.nn as nn\n",
        "import torch.nn.functional as F\n",
        "from torch.autograd import Variable\n",
        "from torch.utils.data import Dataset, DataLoader\n",
        "from torchvision import transforms, utils\n",
        "import torch.nn.init as I\n",
        "\n",
        "import os, glob\n",
        "import cv2\n",
        "import numpy as np\n",
        "import pandas as pd\n",
        "import matplotlib.image as mpimg\n",
        "import matplotlib.pyplot as plt"
      ]
    },
    {
      "cell_type": "code",
      "execution_count": null,
      "metadata": {
        "colab": {
          "base_uri": "https://localhost:8080/",
          "height": 317
        },
        "id": "SeTwuUGeis5S",
        "outputId": "ae2c5325-d141-4d20-a426-d0a97b4c2a1a"
      },
      "outputs": [],
      "source": [
        "df = pd.read_csv('/content/drive/MyDrive/data/training_frames_keypoints.csv')\n",
        "img_dir = '/content/drive/MyDrive/data/training/'\n",
        "df.head()"
      ]
    },
    {
      "cell_type": "code",
      "execution_count": null,
      "metadata": {
        "colab": {
          "base_uri": "https://localhost:8080/",
          "height": 1000
        },
        "id": "3CqYJip6is5T",
        "outputId": "1d0c77b9-280f-4843-e940-6ae6846262ca"
      },
      "outputs": [],
      "source": [
        "for i in range(136):\n",
        "    keypoint = df.iloc[i, 1:].values.astype('float').reshape(-1,2)\n",
        "    print(keypoint)\n",
        "    img = mpimg.imread(img_dir + df.iloc[i, 0])\n",
        "    plt.imshow(img)\n",
        "    break"
      ]
    },
    {
      "cell_type": "code",
      "execution_count": null,
      "metadata": {
        "id": "YJs0I4pRis5U"
      },
      "outputs": [],
      "source": [
        "class FacialKeypointsDataset(Dataset):\n",
        "    def __init__(self, csv_file, root, transform=None):\n",
        "        self.key_pts = pd.read_csv(csv_file)\n",
        "        self.root_dir = root\n",
        "        self.transform = transform\n",
        "\n",
        "    def __len__(self):\n",
        "        return len(self.key_pts)\n",
        "    \n",
        "    def __getitem__(self, index):\n",
        "        image_name = os.path.join(self.root_dir, self.key_pts.iloc[index, 0])\n",
        "        image = mpimg.imread(image_name)\n",
        "        \n",
        "        if image.shape[2] == 4:\n",
        "            image = image[:,:,0:3]\n",
        "        \n",
        "        key_pts = self.key_pts.iloc[index,1:].values.astype('float').reshape(-1,2)\n",
        "        sample = {'image':image, 'keypoints': key_pts}\n",
        "\n",
        "        if self.transform:\n",
        "            sample = self.transform(sample)\n",
        "\n",
        "        return sample"
      ]
    },
    {
      "cell_type": "code",
      "execution_count": null,
      "metadata": {
        "id": "MVb6fxuNis5U"
      },
      "outputs": [],
      "source": [
        "class Normalize(object):\n",
        "\n",
        "    def __call__(self, sample):\n",
        "        image, key_pts = sample['image'], sample['keypoints']\n",
        "\n",
        "        image_copy = np.copy(image)\n",
        "        key_pts_copy = np.copy(key_pts)\n",
        "\n",
        "        image_copy = cv2.cvtColor(image, cv2.COLOR_RGB2GRAY)/255.0\n",
        "        key_pts_copy = (key_pts_copy - 100)/50.0\n",
        "\n",
        "        return {'image':image_copy, 'keypoints' : key_pts_copy}\n",
        "\n",
        "class Rescale(object):\n",
        "    def __init__(self, output_size) :\n",
        "        self.output_size = output_size\n",
        "\n",
        "    def __call__(self, sample):\n",
        "        image, key_pts = sample['image'], sample['keypoints']\n",
        "        h, w = image.shape[:2]\n",
        "        if isinstance(self.output_size, int):\n",
        "            if h > w:\n",
        "                new_h, new_w = self.output_size * h / w, self.output_size\n",
        "            else:\n",
        "                new_h, new_w = self.output_size, self.output_size * w / h\n",
        "        else:\n",
        "            new_h, new_w = self.output_size\n",
        "\n",
        "        new_h, new_w = int(new_h), int(new_w)\n",
        "        img = cv2.resize(image, (new_w, new_h))\n",
        "        \n",
        "        # scale the pts, too\n",
        "        key_pts = key_pts * [new_w / w, new_h / h]\n",
        "\n",
        "        return {'image': img, 'keypoints': key_pts}\n",
        "    \n",
        "class RandomCrop(object):\n",
        "\n",
        "    def __init__(self, output_size):\n",
        "        assert isinstance(output_size, (int, tuple))\n",
        "        if isinstance(output_size, int):\n",
        "            self.output_size = (output_size, output_size)\n",
        "        else:\n",
        "            assert len(output_size) == 2\n",
        "            self.output_size = output_size\n",
        "\n",
        "    def __call__(self, sample):\n",
        "        image, key_pts = sample['image'], sample['keypoints']\n",
        "\n",
        "        h, w = image.shape[:2]\n",
        "        new_h, new_w = self.output_size\n",
        "\n",
        "        top = np.random.randint(0, h - new_h)\n",
        "        left = np.random.randint(0, w - new_w)\n",
        "\n",
        "        image = image[top: top + new_h,\n",
        "                      left: left + new_w]\n",
        "\n",
        "        key_pts = key_pts - [left, top]\n",
        "\n",
        "        return {'image': image, 'keypoints': key_pts}\n",
        "\n",
        "\n",
        "class ToTensor(object):\n",
        "\n",
        "    def __call__(self, sample):\n",
        "        image, key_pts = sample['image'], sample['keypoints']\n",
        "         \n",
        "        # if image has no grayscale color channel, add one\n",
        "        if(len(image.shape) == 2):\n",
        "            # add that third color dim\n",
        "            image = image.reshape(image.shape[0], image.shape[1], 1)\n",
        "            \n",
        "        # swap color axis because\n",
        "        # numpy image: H x W x C\n",
        "        # torch image: C X H X W\n",
        "        image = image.transpose((2, 0, 1))\n",
        "        \n",
        "        return {'image': torch.from_numpy(image),\n",
        "                'keypoints': torch.from_numpy(key_pts)}\n"
      ]
    },
    {
      "cell_type": "code",
      "execution_count": null,
      "metadata": {
        "colab": {
          "base_uri": "https://localhost:8080/"
        },
        "id": "Xv4o6Ncvis5V",
        "outputId": "5da10d17-afae-48d6-d245-19a58613dbd5"
      },
      "outputs": [],
      "source": [
        "data_transform = transforms.Compose([Rescale(100),\n",
        "                                     RandomCrop(96),\n",
        "                                     Normalize(),\n",
        "                                     ToTensor()])\n",
        "\n",
        "transformed_dataset = FacialKeypointsDataset(csv_file='/content/drive/MyDrive/data/training_frames_keypoints.csv', root='/content/drive/MyDrive/data/training/', transform=data_transform)\n",
        "\n",
        "print('Length of dataset : ', len(transformed_dataset))\n",
        "\n",
        "for i in range(5):\n",
        "    sample = transformed_dataset[i]\n",
        "    print(i, sample['image'].size(), sample['keypoints'].size())"
      ]
    },
    {
      "cell_type": "code",
      "execution_count": null,
      "metadata": {
        "colab": {
          "base_uri": "https://localhost:8080/"
        },
        "id": "J3wiReHPis5V",
        "outputId": "37ab5dff-7d22-412c-cee7-de4fe0a0ec1d"
      },
      "outputs": [],
      "source": [
        "import torch\n",
        "from torch.autograd import Variable\n",
        "import torch.nn as nn\n",
        "import torch.nn.functional as F\n",
        "from torch.nn import init\n",
        "\n",
        "class Net(nn.Module):\n",
        "\n",
        "    def __init__(self):\n",
        "        super(Net, self).__init__()\n",
        "        \n",
        "        self.conv1 = torch.nn.Conv2d(1,32,5) # (32,92,92) output tensor # (W-F)/S + 1 = (96-5)/1 + 1 = 92\n",
        "        self.pool1 = torch.nn.MaxPool2d(2,2) # (32,46,46) output tensor\n",
        "        self.conv2 = torch.nn.Conv2d(32,64,5) # (64,44,44) output tensor # (W-F)/S + 1 = (46-5)/1 + 1 = 42\n",
        "        self.pool2 = torch.nn.MaxPool2d(2,2) # (64,21,21) output tensor\n",
        "\n",
        "        self.fc1 = torch.nn.Linear(64*21*21, 1000)   \n",
        "        self.fc2 = torch.nn.Linear(1000, 500)       \n",
        "        self.fc3 = torch.nn.Linear(500, 136)        \n",
        "        self.drop1 = nn.Dropout(p=0.4)\n",
        "        \n",
        "        \n",
        "    def forward(self, x):\n",
        "        \n",
        "        x = self.conv1(x)\n",
        "        x = F.relu(x)\n",
        "        x = self.pool1(x)\n",
        "          \n",
        "        x = self.conv2(x)\n",
        "        x = F.relu(x)\n",
        "        x = self.pool2(x)\n",
        "        x = self.drop1(x)\n",
        "      \n",
        "        x = x.view(x.size(0), -1)\n",
        "        \n",
        "        x = self.fc1(x)\n",
        "        x = F.relu(x)\n",
        "        x = self.drop1(x)\n",
        "        \n",
        "        x = self.fc2(x)\n",
        "        x = F.relu(x)\n",
        "        x = self.drop1(x)\n",
        "        \n",
        "        x = self.fc3(x)\n",
        "        \n",
        "        return x\n",
        "    \n",
        "net = Net()\n",
        "# net.to(device)\n",
        "print(net)"
      ]
    },
    {
      "cell_type": "code",
      "execution_count": null,
      "metadata": {
        "id": "-Ifg9V4Dis5X"
      },
      "outputs": [],
      "source": [
        "batch_size = 10\n",
        "\n",
        "train_loader = DataLoader(transformed_dataset, \n",
        "                          batch_size=batch_size,\n",
        "                          shuffle=True, \n",
        "                          num_workers=2)"
      ]
    },
    {
      "cell_type": "code",
      "execution_count": null,
      "metadata": {
        "id": "p28sEm4Tis5X"
      },
      "outputs": [],
      "source": [
        "test_dataset = FacialKeypointsDataset(csv_file='/content/drive/MyDrive/data/test_frames_keypoints.csv',\n",
        "                                             root='/content/drive/MyDrive/data/test/',\n",
        "                                             transform=data_transform)"
      ]
    },
    {
      "cell_type": "code",
      "execution_count": null,
      "metadata": {
        "id": "nQa8mGDLis5X"
      },
      "outputs": [],
      "source": [
        "batch_size = 10\n",
        "\n",
        "test_loader = DataLoader(test_dataset, \n",
        "                          batch_size=batch_size,\n",
        "                          shuffle=True, \n",
        "                          num_workers=2)"
      ]
    },
    {
      "cell_type": "code",
      "execution_count": null,
      "metadata": {
        "id": "hbYuInYtis5X"
      },
      "outputs": [],
      "source": [
        "def net_sample_output():\n",
        "    \n",
        "    for i, sample in enumerate(test_loader):\n",
        "        images = sample['image']\n",
        "        key_pts = sample['keypoints']\n",
        "        images = images.type(torch.FloatTensor)\n",
        "        output_pts = net(images)\n",
        "        output_pts = output_pts.view(output_pts.size()[0], 68, -1)\n",
        "        if i == 0:\n",
        "            return images, output_pts, key_pts\n",
        "            "
      ]
    },
    {
      "cell_type": "code",
      "execution_count": null,
      "metadata": {
        "colab": {
          "base_uri": "https://localhost:8080/",
          "height": 1000
        },
        "id": "U6QLNdxjis5Y",
        "outputId": "7c2f0349-c91e-4b7f-ba83-ac14a4a3b5cd"
      },
      "outputs": [],
      "source": [
        "def show_all_keypoints(image, predicted_key_pts, gt_pts=None):\n",
        "    \"\"\"Show image with predicted keypoints\"\"\"\n",
        "    # image is grayscale\n",
        "    plt.imshow(image, cmap='gray')\n",
        "    plt.scatter(predicted_key_pts[:, 0], predicted_key_pts[:, 1], s=20, marker='.', c='m')\n",
        "    # plot ground truth points as green pts\n",
        "    if gt_pts is not None:\n",
        "        plt.scatter(gt_pts[:, 0], gt_pts[:, 1], s=20, marker='.', c='g')\n",
        "\n",
        "\n",
        "def visualize_output(test_images, test_outputs, gt_pts=None, batch_size=10):\n",
        "\n",
        "    for i in range(batch_size):\n",
        "        plt.figure(figsize=(20,10))\n",
        "        ax = plt.subplot(1, batch_size, i+1)\n",
        "\n",
        "        image = test_images[i].data   # get the image from it's wrapper\n",
        "        image = image.numpy()   # convert to numpy array from a Tensor\n",
        "        image = np.transpose(image, (1, 2, 0))   # transpose to go from torch to numpy image\n",
        "\n",
        "        predicted_key_pts = test_outputs[i].data\n",
        "        predicted_key_pts = predicted_key_pts.numpy()\n",
        "        predicted_key_pts = predicted_key_pts*50.0+100\n",
        "        \n",
        "        ground_truth_pts = None\n",
        "        if gt_pts is not None:\n",
        "            ground_truth_pts = gt_pts[i]         \n",
        "            ground_truth_pts = ground_truth_pts*50.0+100\n",
        "        \n",
        "        show_all_keypoints(np.squeeze(image), predicted_key_pts, ground_truth_pts)\n",
        "            \n",
        "        plt.axis('off')\n",
        "\n",
        "    plt.show()"
      ]
    },
    {
      "cell_type": "code",
      "execution_count": null,
      "metadata": {
        "id": "ZyS9Zr3sis5Y"
      },
      "outputs": [],
      "source": [
        "\n",
        "import torch.optim as optim\n",
        "\n",
        "# criterion = nn.MSELoss()\n",
        "criterion = nn.SmoothL1Loss()\n",
        "\n",
        "optimizer = optim.Adam(net.parameters(), lr=0.001, betas=(0.9, 0.999), eps=1e-08)"
      ]
    },
    {
      "cell_type": "code",
      "execution_count": null,
      "metadata": {
        "id": "0K_e1QMRis5Z"
      },
      "outputs": [],
      "source": [
        "def train_net(n_epochs):\n",
        "\n",
        "    # prepare the net for training\n",
        "    net.train()\n",
        "\n",
        "    for epoch in range(n_epochs):  # loop over the dataset multiple times\n",
        "        \n",
        "        running_loss = 0.0\n",
        "\n",
        "        # train on batches of data, assumes you already have train_loader\n",
        "        for batch_i, data in enumerate(train_loader):\n",
        "            # get the input images and their corresponding labels\n",
        "            images = data['image']\n",
        "            key_pts = data['keypoints']\n",
        "\n",
        "            # flatten pts\n",
        "            key_pts = key_pts.view(key_pts.size(0), -1)\n",
        "\n",
        "            # convert variables to floats for regression loss\n",
        "            key_pts = key_pts.type(torch.FloatTensor)\n",
        "            images = images.type(torch.FloatTensor)\n",
        "\n",
        "            # forward pass to get outputs\n",
        "            output_pts = net(images)\n",
        "\n",
        "            # calculate the loss between predicted and target keypoints\n",
        "            loss = criterion(output_pts, key_pts)\n",
        "\n",
        "            # zero the parameter (weight) gradients\n",
        "            optimizer.zero_grad()\n",
        "            \n",
        "            # backward pass to calculate the weight gradients\n",
        "            loss.backward()\n",
        "\n",
        "            # update the weights\n",
        "            optimizer.step()\n",
        "\n",
        "            # print loss statistics\n",
        "            # to convert loss into a scalar and add it to the running_loss, use .item()\n",
        "            running_loss += loss.item()\n",
        "            if batch_i % 10 == 9:    # print every 10 batches\n",
        "                print('Epoch: {}, Batch: {}, Avg. Loss: {}'.format(epoch + 1, batch_i+1, running_loss/1000))\n",
        "                running_loss = 0.0\n",
        "\n",
        "    print('Finished Training')"
      ]
    },
    {
      "cell_type": "code",
      "execution_count": null,
      "metadata": {
        "colab": {
          "base_uri": "https://localhost:8080/"
        },
        "id": "52E6L9kVis5Z",
        "outputId": "d947ecce-30ec-44e3-b31f-0be51411af76"
      },
      "outputs": [],
      "source": [
        "# train your network\n",
        "n_epochs = 10 \n",
        "train_net(n_epochs)"
      ]
    },
    {
      "cell_type": "code",
      "execution_count": null,
      "metadata": {
        "colab": {
          "base_uri": "https://localhost:8080/"
        },
        "id": "Roypbr-kis5Z",
        "outputId": "2bc112ee-9383-40a0-c1d1-75af2e9127ef"
      },
      "outputs": [],
      "source": [
        "# get a sample of test data again\n",
        "test_images, test_outputs, gt_pts = net_sample_output()\n",
        "\n",
        "print(test_images.data.size())\n",
        "print(test_outputs.data.size())\n",
        "print(gt_pts.size())"
      ]
    },
    {
      "cell_type": "code",
      "execution_count": null,
      "metadata": {
        "colab": {
          "base_uri": "https://localhost:8080/",
          "height": 1000
        },
        "id": "BXMS-B7mis5Z",
        "outputId": "a31d29fd-a47a-46b7-8e0e-56711896f248"
      },
      "outputs": [],
      "source": [
        "visualize_output(test_images, test_outputs, gt_pts)"
      ]
    },
    {
      "cell_type": "code",
      "execution_count": null,
      "metadata": {
        "id": "crAgXTw7is5Z"
      },
      "outputs": [],
      "source": [
        "model_dir = '/content/drive/MyDrive/data/'\n",
        "model_name = 'keypoints_model_10.pt'\n",
        "\n",
        "torch.save(net.state_dict(), model_dir+model_name)"
      ]
    }
  ],
  "metadata": {
    "accelerator": "GPU",
    "colab": {
      "gpuType": "T4",
      "provenance": []
    },
    "kernelspec": {
      "display_name": "Python 3",
      "name": "python3"
    },
    "language_info": {
      "codemirror_mode": {
        "name": "ipython",
        "version": 3
      },
      "file_extension": ".py",
      "mimetype": "text/x-python",
      "name": "python",
      "nbconvert_exporter": "python",
      "pygments_lexer": "ipython3",
      "version": "3.8.16"
    },
    "orig_nbformat": 4
  },
  "nbformat": 4,
  "nbformat_minor": 0
}
